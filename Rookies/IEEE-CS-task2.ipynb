{
 "cells": [
  {
   "cell_type": "code",
   "execution_count": null,
   "id": "a403ab23",
   "metadata": {},
   "outputs": [],
   "source": [
    "#Summation\n",
    "n = int(input())                        \n",
    "arr = list(map(int, input().split()))  \n",
    "total = sum(arr)\n",
    "print(abs(total))"
   ]
  },
  {
   "cell_type": "code",
   "execution_count": null,
   "id": "8c37ab93",
   "metadata": {},
   "outputs": [],
   "source": [
    "#Searching\n",
    "n = int(input())                           \n",
    "arr = list(map(int, input().split()))    \n",
    "x = int(input())       \n",
    "\n",
    "found = -1\n",
    "for index, value in enumerate(arr):\n",
    "    if value == x:\n",
    "        found = index\n",
    "        break\n",
    "\n",
    "print(found)"
   ]
  },
  {
   "cell_type": "code",
   "execution_count": null,
   "id": "804931ad",
   "metadata": {},
   "outputs": [
    {
     "name": "stdout",
     "output_type": "stream",
     "text": [
      "[1, 2, 1, 2, 1]\n"
     ]
    }
   ],
   "source": [
    "#Replacement\n",
    "n = int(input())\n",
    "arr = list(map(int, input().split()))\n",
    "for i in range(n):\n",
    "    if arr[i] > 0:\n",
    "        arr[i] = 1\n",
    "    elif arr[i] < 0:\n",
    "        arr[i] = 2\n",
    "#print(arr)\n",
    "print(' '.join(map(str, arr)))"
   ]
  },
  {
   "cell_type": "code",
   "execution_count": 1,
   "id": "489eda13",
   "metadata": {},
   "outputs": [
    {
     "name": "stdout",
     "output_type": "stream",
     "text": [
      "A[0] = 5\n",
      "A[1] = 9\n",
      "A[2] = 8\n"
     ]
    }
   ],
   "source": [
    "#Positions in array\n",
    "n = int(input())\n",
    "arr = list(map(int, input().split()))\n",
    "\n",
    "for i in range(n):\n",
    "    if arr[i] <= 10:\n",
    "        print(f\"A[{i}] = {arr[i]}\")"
   ]
  },
  {
   "cell_type": "code",
   "execution_count": null,
   "id": "81aba684",
   "metadata": {},
   "outputs": [],
   "source": [
    "# Lowest Number\n",
    "n = int(input())\n",
    "arr = list(map(int, input().split()))\n",
    "min_val = arr[0]\n",
    "min_pos = 0\n",
    "\n",
    "for i in range(1, n):\n",
    "    if arr[i] < min_val:\n",
    "        min_val = arr[i]\n",
    "        min_pos = i\n",
    "\n",
    "print(min_val, min_pos + 1)"
   ]
  },
  {
   "cell_type": "code",
   "execution_count": null,
   "id": "8ffc63c9",
   "metadata": {},
   "outputs": [],
   "source": [
    "#Reversing\n",
    "n = int(input())\n",
    "arr = list(map(int, input().split()))\n",
    "\n",
    "for i in range(n - 1, -1, -1):\n",
    "    print(arr[i], end=' ')"
   ]
  },
  {
   "cell_type": "code",
   "execution_count": null,
   "id": "cf8fa578",
   "metadata": {},
   "outputs": [],
   "source": [
    "#Palindrome Array\n",
    "n = int(input())\n",
    "arr = list(map(int, input().split()))\n",
    "is_palindrome = True\n",
    "\n",
    "for i in range(n // 2):\n",
    "    if arr[i] != arr[n - 1 - i]:\n",
    "        is_palindrome = False\n",
    "        break\n",
    "\n",
    "if is_palindrome:\n",
    "    print(\"YES\")\n",
    "else:\n",
    "    print(\"NO\")"
   ]
  },
  {
   "cell_type": "code",
   "execution_count": null,
   "id": "0baccfac",
   "metadata": {},
   "outputs": [],
   "source": [
    "#Sorting\n",
    "n = int(input())\n",
    "arr = list(map(int, input().split()))\n",
    "\n",
    "for i in range(n):\n",
    "    min_index = i\n",
    "    for j in range(i + 1, n):\n",
    "        if arr[j] < arr[min_index]:\n",
    "            min_index = j\n",
    "    arr[i], arr[min_index] = arr[min_index], arr[i]\n",
    "\n",
    "for num in arr:\n",
    "    print(num, end=' ')"
   ]
  },
  {
   "cell_type": "code",
   "execution_count": null,
   "id": "a9e9ff27",
   "metadata": {},
   "outputs": [],
   "source": [
    "#Smallest Pair\n",
    "p = int(input())\n",
    "\n",
    "for _ in range(p):\n",
    "    n = int(input())\n",
    "    arr = list(map(int, input().split()))\n",
    "    min_sum = float('inf')\n",
    "\n",
    "    for i in range(n):\n",
    "        for j in range(i + 1, n):\n",
    "            result = arr[i] + arr[j] + (j - i)\n",
    "            if result < min_sum:\n",
    "                min_sum = result\n",
    "\n",
    "    print(min_sum)"
   ]
  },
  {
   "cell_type": "code",
   "execution_count": null,
   "id": "c2ae9d59",
   "metadata": {},
   "outputs": [],
   "source": [
    "#Lucky Array\n",
    "n = int(input())\n",
    "arr = list(map(int, input().split()))\n",
    "\n",
    "min_val = arr[0]\n",
    "for i in range(1, n):\n",
    "    if arr[i] < min_val:\n",
    "        min_val = arr[i]\n",
    "\n",
    "count = 0\n",
    "for i in range(n):\n",
    "    if arr[i] == min_val:\n",
    "        count += 1\n",
    "\n",
    "if count % 2 == 1:\n",
    "    print(\"Lucky\")\n",
    "else:\n",
    "    print(\"Unlucky\")"
   ]
  },
  {
   "cell_type": "code",
   "execution_count": null,
   "id": "05cd2912",
   "metadata": {},
   "outputs": [],
   "source": [
    "#Sum Digits\n",
    "n = int(input())\n",
    "digits = input()\n",
    "\n",
    "result = 0\n",
    "for digit in digits:\n",
    "    result += int(digit)\n",
    "\n",
    "print(result)"
   ]
  },
  {
   "cell_type": "code",
   "execution_count": null,
   "id": "ef063553",
   "metadata": {},
   "outputs": [],
   "source": [
    "#Max Subarray\n",
    "t = int(input())\n",
    "\n",
    "for _ in range(t):\n",
    "    n = int(input())\n",
    "    arr = list(map(int, input().split()))\n",
    "    result = []\n",
    "\n",
    "    for i in range(n):\n",
    "        current_max = arr[i]\n",
    "        for j in range(i, n):\n",
    "            current_max = max(current_max, arr[j])\n",
    "            result.append(current_max)\n",
    "\n",
    "    print(*result)"
   ]
  }
 ],
 "metadata": {
  "kernelspec": {
   "display_name": "Python 3",
   "language": "python",
   "name": "python3"
  },
  "language_info": {
   "codemirror_mode": {
    "name": "ipython",
    "version": 3
   },
   "file_extension": ".py",
   "mimetype": "text/x-python",
   "name": "python",
   "nbconvert_exporter": "python",
   "pygments_lexer": "ipython3",
   "version": "3.12.5"
  }
 },
 "nbformat": 4,
 "nbformat_minor": 5
}
