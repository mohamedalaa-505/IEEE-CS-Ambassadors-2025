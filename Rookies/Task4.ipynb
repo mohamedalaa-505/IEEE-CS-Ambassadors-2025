{
 "cells": [
  {
   "cell_type": "code",
   "execution_count": 1,
   "id": "bb86a83b",
   "metadata": {},
   "outputs": [
    {
     "name": "stdout",
     "output_type": "stream",
     "text": [
      "7\n"
     ]
    }
   ],
   "source": [
    "def summation(x, y):\n",
    "    return x + y\n",
    "\n",
    "x, y = map(int, input().split())\n",
    "print(summation(x, y))"
   ]
  },
  {
   "cell_type": "code",
   "execution_count": 3,
   "id": "94c7aaa2",
   "metadata": {},
   "outputs": [
    {
     "name": "stdout",
     "output_type": "stream",
     "text": [
      "1 2 3 4 5\n"
     ]
    }
   ],
   "source": [
    "def print_numbers(n):\n",
    "    for i in range(1, n + 1):\n",
    "        if i < n:\n",
    "            print(i, end=' ')\n",
    "        else:\n",
    "            print(i)\n",
    "\n",
    "n = int(input())\n",
    "print_numbers(n)"
   ]
  },
  {
   "cell_type": "code",
   "execution_count": 4,
   "id": "91d23bcd",
   "metadata": {},
   "outputs": [
    {
     "name": "stdout",
     "output_type": "stream",
     "text": [
      "6 5\n"
     ]
    }
   ],
   "source": [
    "def swap(x, y):\n",
    "    x, y = y, x\n",
    "    print(x, y)\n",
    "\n",
    "x, y = map(int, input().split())\n",
    "swap(x, y)"
   ]
  },
  {
   "cell_type": "code",
   "execution_count": 5,
   "id": "58a39de2",
   "metadata": {},
   "outputs": [
    {
     "name": "stdout",
     "output_type": "stream",
     "text": [
      "YES\n",
      "NO\n",
      "NO\n",
      "YES\n",
      "YES\n"
     ]
    }
   ],
   "source": [
    "def is_prime(n):\n",
    "    if n <= 1:\n",
    "        return False\n",
    "    if n == 2:\n",
    "        return True\n",
    "    if n % 2 == 0:\n",
    "        return False\n",
    "    i = 3\n",
    "    while i * i <= n:\n",
    "        if n % i == 0:\n",
    "            return False\n",
    "        i += 2\n",
    "    return True\n",
    "\n",
    "t = int(input())\n",
    "for _ in range(t):\n",
    "    n = int(input())\n",
    "    if is_prime(n):\n",
    "        print(\"YES\")\n",
    "    else:\n",
    "        print(\"NO\")"
   ]
  },
  {
   "cell_type": "code",
   "execution_count": 7,
   "id": "e0db6cc0",
   "metadata": {},
   "outputs": [
    {
     "name": "stdout",
     "output_type": "stream",
     "text": [
      "20\n"
     ]
    }
   ],
   "source": [
    "def power(x, n):\n",
    "    result = 1\n",
    "    for _ in range(n):\n",
    "        result *= x\n",
    "    return result\n",
    "\n",
    "def calculate_equation(x, n):\n",
    "    s = 0\n",
    "    for i in range(0, n + 1, 2):\n",
    "        if i == 0:\n",
    "            s += power(x, i) - 1\n",
    "        else:\n",
    "            s += power(x, i)\n",
    "    print(s)\n",
    "\n",
    "x, n = map(int, input().split())\n",
    "calculate_equation(x, n)"
   ]
  },
  {
   "cell_type": "code",
   "execution_count": 8,
   "id": "25cc202a",
   "metadata": {},
   "outputs": [
    {
     "name": "stdout",
     "output_type": "stream",
     "text": [
      "2.5\n"
     ]
    }
   ],
   "source": [
    "def calculate_average(n, numbers):\n",
    "    total = 0.0\n",
    "    for num in numbers:\n",
    "        total += num\n",
    "    average = total / n\n",
    "    print(average)\n",
    "\n",
    "n = int(input())\n",
    "numbers = list(map(float, input().split()))\n",
    "calculate_average(n, numbers)"
   ]
  },
  {
   "cell_type": "code",
   "execution_count": 1,
   "id": "86ae8acf",
   "metadata": {},
   "outputs": [
    {
     "name": "stdout",
     "output_type": "stream",
     "text": [
      "1 7\n"
     ]
    }
   ],
   "source": [
    "def find_min_max(arr):\n",
    "    min_num = min(arr)\n",
    "    max_num = max(arr)\n",
    "    print(min_num, max_num)\n",
    "\n",
    "N = int(input())\n",
    "A = list(map(int, input().split()))\n",
    "\n",
    "find_min_max(A)"
   ]
  },
  {
   "cell_type": "code",
   "execution_count": null,
   "id": "3c3cf496",
   "metadata": {},
   "outputs": [
    {
     "name": "stdout",
     "output_type": "stream",
     "text": [
      "2 5 0 0\n"
     ]
    }
   ],
   "source": [
    "def shift_zeros_right(arr):\n",
    "    result = [num for num in arr if num != 0]  \n",
    "    zero_count = arr.count(0)  \n",
    "    result += [0] * zero_count  \n",
    "    print(*result)\n",
    "\n",
    "N = int(input())\n",
    "A = list(map(int, input().split()))\n",
    "\n",
    "shift_zeros_right(A)"
   ]
  },
  {
   "cell_type": "code",
   "execution_count": 5,
   "id": "4f8b1930",
   "metadata": {},
   "outputs": [
    {
     "name": "stdout",
     "output_type": "stream",
     "text": [
      "3 4 1 2\n"
     ]
    }
   ],
   "source": [
    "def concatenate_arrays(A, B):\n",
    "    C = B + A \n",
    "    print(*C)\n",
    "\n",
    "N = int(input())\n",
    "A = list(map(int, input().split()))\n",
    "B = list(map(int, input().split()))\n",
    "\n",
    "concatenate_arrays(A, B)"
   ]
  },
  {
   "cell_type": "code",
   "execution_count": 6,
   "id": "394b3383",
   "metadata": {},
   "outputs": [
    {
     "name": "stdout",
     "output_type": "stream",
     "text": [
      "The maximum number : 83\n",
      "The minimum number : 1\n",
      "The number of prime numbers : 2\n",
      "The number of palindrome numbers : 3\n",
      "The number that has the maximum number of divisors : 14\n"
     ]
    }
   ],
   "source": [
    "def get_max(arr):\n",
    "    return max(arr)\n",
    "\n",
    "def get_min(arr):\n",
    "    return min(arr)\n",
    "\n",
    "def is_prime(n):\n",
    "    if n <= 1:\n",
    "        return False\n",
    "    for i in range(2, int(n**0.5)+1):\n",
    "        if n % i == 0:\n",
    "            return False\n",
    "    return True\n",
    "\n",
    "def count_primes(arr):\n",
    "    return sum(1 for num in arr if is_prime(num))\n",
    "\n",
    "def is_palindrome(n):\n",
    "    return str(n) == str(n)[::-1]\n",
    "\n",
    "def count_palindromes(arr):\n",
    "    return sum(1 for num in arr if is_palindrome(num))\n",
    "\n",
    "def count_divisors(n):\n",
    "    return sum(1 for i in range(1, n+1) if n % i == 0)\n",
    "\n",
    "def max_divisors_number(arr):\n",
    "    max_div_count = 0\n",
    "    result = 0\n",
    "    for num in arr:\n",
    "        div_count = count_divisors(num)\n",
    "        if div_count > max_div_count:\n",
    "            max_div_count = div_count\n",
    "            result = num\n",
    "        elif div_count == max_div_count:\n",
    "            result = max(result, num)\n",
    "    return result\n",
    "\n",
    "N = int(input())\n",
    "A = list(map(int, input().split()))\n",
    "\n",
    "print(f\"The maximum number : {get_max(A)}\")\n",
    "print(f\"The minimum number : {get_min(A)}\")\n",
    "print(f\"The number of prime numbers : {count_primes(A)}\")\n",
    "print(f\"The number of palindrome numbers : {count_palindromes(A)}\")\n",
    "print(f\"The number that has the maximum number of divisors : {max_divisors_number(A)}\")"
   ]
  }
 ],
 "metadata": {
  "kernelspec": {
   "display_name": "Python 3",
   "language": "python",
   "name": "python3"
  },
  "language_info": {
   "codemirror_mode": {
    "name": "ipython",
    "version": 3
   },
   "file_extension": ".py",
   "mimetype": "text/x-python",
   "name": "python",
   "nbconvert_exporter": "python",
   "pygments_lexer": "ipython3",
   "version": "3.12.5"
  }
 },
 "nbformat": 4,
 "nbformat_minor": 5
}
