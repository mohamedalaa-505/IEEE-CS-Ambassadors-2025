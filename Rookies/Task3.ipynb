{
 "cells": [
  {
   "cell_type": "code",
   "execution_count": 1,
   "id": "d50001c3",
   "metadata": {},
   "outputs": [
    {
     "name": "stdout",
     "output_type": "stream",
     "text": [
      "2\n"
     ]
    }
   ],
   "source": [
    "#count words\n",
    "S = input()\n",
    "for c in ['.','?','!',\",\"]:\n",
    "    S = S.replace(c, \" \")\n",
    "\n",
    "words = S.split()\n",
    "print(len(words))"
   ]
  },
  {
   "cell_type": "code",
   "execution_count": 6,
   "id": "c88b2ba8",
   "metadata": {},
   "outputs": [
    {
     "name": "stdout",
     "output_type": "stream",
     "text": [
      "YES\n"
     ]
    }
   ],
   "source": [
    "#Palindrome\n",
    "S = input()\n",
    "if S == S[::-1]:\n",
    "    print(\"YES\")\n",
    "else:\n",
    "    print(\"NO\")"
   ]
  },
  {
   "cell_type": "code",
   "execution_count": 9,
   "id": "3a6a3067",
   "metadata": {},
   "outputs": [
    {
     "name": "stdout",
     "output_type": "stream",
     "text": [
      "i evol uoy\n"
     ]
    }
   ],
   "source": [
    "#Reverse Words\n",
    "S = input()\n",
    "words = S.split()\n",
    "rev_words = [word[::-1] for word in words]\n",
    "print(' '.join(rev_words))"
   ]
  },
  {
   "cell_type": "code",
   "execution_count": 3,
   "id": "1f78ba97",
   "metadata": {},
   "outputs": [
    {
     "name": "stdout",
     "output_type": "stream",
     "text": [
      "word\n",
      "m10d\n",
      "anaana\n"
     ]
    }
   ],
   "source": [
    "#Way Too Long Words\n",
    "T = int(input())\n",
    "for _ in range(T):\n",
    "    S = input()\n",
    "    if len(S) <= 10:\n",
    "        print(S)\n",
    "    elif len(S) > 10:\n",
    "        print(f\"{S[0]}{len(S) - 2}{S[-1]}\")\n"
   ]
  },
  {
   "cell_type": "code",
   "execution_count": 4,
   "id": "dfa1be16",
   "metadata": {},
   "outputs": [
    {
     "name": "stdout",
     "output_type": "stream",
     "text": [
      "HAPPY  new  yEAR\n"
     ]
    }
   ],
   "source": [
    "#Conversion\n",
    "S = input()\n",
    "sentance = S.replace(',', ' ').swapcase()\n",
    "print(sentance)"
   ]
  },
  {
   "cell_type": "code",
   "execution_count": 2,
   "id": "18a9b244",
   "metadata": {},
   "outputs": [
    {
     "name": "stdout",
     "output_type": "stream",
     "text": [
      "YES\n"
     ]
    }
   ],
   "source": [
    "#Subsequence String\n",
    "S = input()\n",
    "target = \"hello\"\n",
    "i = 0 \n",
    "\n",
    "for c in S:\n",
    "    if c == target[i]:\n",
    "        i += 1\n",
    "    if i == len(target):\n",
    "        break\n",
    "\n",
    "if i == len(target):\n",
    "    print(\"YES\")\n",
    "else:\n",
    "    print(\"NO\")"
   ]
  },
  {
   "cell_type": "code",
   "execution_count": 3,
   "id": "580dbc16",
   "metadata": {},
   "outputs": [
    {
     "name": "stdout",
     "output_type": "stream",
     "text": [
      "icpcAssiut\n",
      "egypt\n"
     ]
    }
   ],
   "source": [
    "#I Love strings\n",
    "N = int(input())\n",
    "\n",
    "for _ in range(N):\n",
    "    S, T = input().split()\n",
    "    result = ''\n",
    "    max_len = max(len(S), len(T))\n",
    "\n",
    "    for i in range(max_len):\n",
    "        if i < len(S):\n",
    "            result += S[i]\n",
    "        if i < len(T):\n",
    "            result += T[i]\n",
    "\n",
    "    print(result)"
   ]
  },
  {
   "cell_type": "code",
   "execution_count": null,
   "id": "806bc4ef",
   "metadata": {},
   "outputs": [
    {
     "name": "stdout",
     "output_type": "stream",
     "text": [
      "assiut\n",
      "p\n",
      "s\n"
     ]
    }
   ],
   "source": [
    "#did not submit on codeforces\n",
    "#String Functions\n",
    "N, Q = map(int ,input().split())\n",
    "S = list(input())\n",
    "\n",
    "for _ in range(Q):\n",
    "    query = input().split()\n",
    "\n",
    "    if query[0] == 'pop_back':\n",
    "        S.pop()\n",
    "\n",
    "    elif query[0] == 'font':\n",
    "        print(S[0])\n",
    "\n",
    "    elif query[0] == 'back':\n",
    "        print(S[-1])\n",
    "\n",
    "    elif query[0] == 'back':\n",
    "        print(S[-1])\n",
    "\n",
    "    elif query[0] == 'sort':\n",
    "        l = int(query[1]) - 1\n",
    "        r = int(query[2])\n",
    "        S[l:r] = sorted(S[l:r])\n",
    "\n",
    "    elif query[0] == 'reverse':\n",
    "        l = int(query[1]) - 1\n",
    "        r = int(query[2])\n",
    "        S[l:r] = S[l:r][::-1]\n",
    "\n",
    "    elif query[0] == 'print':\n",
    "        pos = int(query[1]) - 1\n",
    "        print(S[pos])\n",
    "\n",
    "    elif query[0] == 'substr':\n",
    "        l = int(query[1]) - 1\n",
    "        r = int(query[2])\n",
    "        print(''.join(S[l:r]))\n",
    "\n",
    "    elif query[0] == 'push_back':\n",
    "        x = query[1]\n",
    "        S.append(x)"
   ]
  }
 ],
 "metadata": {
  "kernelspec": {
   "display_name": "Python 3",
   "language": "python",
   "name": "python3"
  },
  "language_info": {
   "codemirror_mode": {
    "name": "ipython",
    "version": 3
   },
   "file_extension": ".py",
   "mimetype": "text/x-python",
   "name": "python",
   "nbconvert_exporter": "python",
   "pygments_lexer": "ipython3",
   "version": "3.12.5"
  }
 },
 "nbformat": 4,
 "nbformat_minor": 5
}
